{
 "cells": [
  {
   "cell_type": "markdown",
   "metadata": {},
   "source": [
    "### Homework 3 Numpy Arrays and Pandas\n",
    "\n",
    "1. Open `cars.csv` in jupyter and look at the data. (Double click `cars.csv` to open in a new tab).\n",
    "2. We are converting each **column** into a numpy array.\n",
    "3. Notice we have text, integer and float data. \n",
    "4. Take care not to overwrite your starter code."
   ]
  },
  {
   "cell_type": "code",
   "execution_count": 1,
   "metadata": {},
   "outputs": [],
   "source": [
    "#Starter code. Do NOT modify this cell\n",
    "import pandas as pd\n",
    "import numpy as np\n",
    "\n",
    "# Read in dataset\n",
    "df = pd.read_csv('cars.csv',delimiter=';')\n",
    "\n",
    "# Convert each column to an np.array\n",
    "car = df.Car.to_numpy()\n",
    "mpg = df.MPG.to_numpy()\n",
    "cylinders = df.Cylinders.to_numpy()\n",
    "displacement = df.Displacement.to_numpy()\n",
    "horsepower = df.Horsepower.to_numpy()\n",
    "weight = df.Weight.to_numpy()\n",
    "acceleration = df.Acceleration.to_numpy()\n",
    "model = df.Model.to_numpy()\n",
    "origin = df.Origin.to_numpy()\n",
    "\n",
    "# create an array of headers\n",
    "headers = np.array(['Car', 'MPG', 'Cylinders', 'Displacement', 'Horsepower', 'Weight','Acceleration', 'Model', 'Origin'])"
   ]
  },
  {
   "cell_type": "markdown",
   "metadata": {},
   "source": [
    "1. (2 pts) What are the numpy datatypes for the `car`,`mpg`, `horsepower` and `origin` arrays? (Hint: Not `type(car)` and use `print()` to print the numpy type.)"
   ]
  },
  {
   "cell_type": "code",
   "execution_count": 4,
   "metadata": {},
   "outputs": [
    {
     "name": "stdout",
     "output_type": "stream",
     "text": [
      "object\n",
      "float64\n",
      "float64\n",
      "object\n"
     ]
    }
   ],
   "source": [
    "print(car.dtype)\n",
    "print(mpg.dtype)\n",
    "print(horsepower.dtype)\n",
    "print(origin.dtype)"
   ]
  },
  {
   "cell_type": "markdown",
   "metadata": {},
   "source": [
    "2. (1 pt) `numpy` is often imported as `np`. What is this action called? Why might you do this? "
   ]
  },
  {
   "cell_type": "code",
   "execution_count": null,
   "metadata": {},
   "outputs": [],
   "source": [
    "This action is called np alias. This helps keep things short and easier to read."
   ]
  },
  {
   "cell_type": "markdown",
   "metadata": {},
   "source": [
    "3. (2 pts) Each of the arrays (cars, mpg, cylinders, etc..) has how many dimensions? Show how to find this using code. "
   ]
  },
  {
   "cell_type": "code",
   "execution_count": 6,
   "metadata": {},
   "outputs": [
    {
     "name": "stdout",
     "output_type": "stream",
     "text": [
      "1\n",
      "1\n",
      "1\n"
     ]
    }
   ],
   "source": [
    "import pandas as pd\n",
    "\n",
    "print(car.ndim)\n",
    "print(mpg.ndim)\n",
    "print(cylinders.ndim)"
   ]
  },
  {
   "cell_type": "markdown",
   "metadata": {},
   "source": [
    "4. (3 pts) What is the ___ of `horsepower`?\n",
    "- sum\n",
    "- min\n",
    "- max\n",
    "- median\n",
    "- Optional: mode (May need to google help) (1 pt extra credit)"
   ]
  },
  {
   "cell_type": "code",
   "execution_count": 6,
   "metadata": {},
   "outputs": [
    {
     "name": "stdout",
     "output_type": "stream",
     "text": [
      "42033.0\n",
      "0.0\n",
      "230.0\n",
      "93.5\n",
      "ModeResult(mode=np.float64(150.0), count=np.int64(22))\n"
     ]
    }
   ],
   "source": [
    "from scipy import stats as st\n",
    "\n",
    "print(sum(horsepower))\n",
    "print(min(horsepower))\n",
    "print(max(horsepower))\n",
    "print(np.median(horsepower))\n",
    "print(st.mode(horsepower))"
   ]
  },
  {
   "cell_type": "markdown",
   "metadata": {},
   "source": [
    "5. (2 pts) Select the last element in each subarray (do this with one operation.)"
   ]
  },
  {
   "cell_type": "code",
   "execution_count": 9,
   "metadata": {},
   "outputs": [],
   "source": [
    "select_more = np.array([[1,2,3],\n",
    "                      [4,5,6],\n",
    "                      [7,8,9]])\n",
    "# returns array([3, 6, 9])"
   ]
  },
  {
   "cell_type": "code",
   "execution_count": 15,
   "metadata": {},
   "outputs": [
    {
     "name": "stdout",
     "output_type": "stream",
     "text": [
      "Third column: [3 6 9]\n"
     ]
    }
   ],
   "source": [
    "slice1 = select_more[:,-1]\n",
    "print(\"Third column:\", slice1)"
   ]
  },
  {
   "cell_type": "markdown",
   "metadata": {},
   "source": [
    "6. (2 pts) Use the built-in `np.lookfor()` function to search for `'log'`.\n",
    "\n",
    "Use the function you find and apply it to `mpg`."
   ]
  },
  {
   "cell_type": "code",
   "execution_count": 16,
   "metadata": {},
   "outputs": [
    {
     "ename": "AttributeError",
     "evalue": "`np.lookfor` was removed in the NumPy 2.0 release. Search NumPy's documentation directly.",
     "output_type": "error",
     "traceback": [
      "\u001b[0;31m---------------------------------------------------------------------------\u001b[0m",
      "\u001b[0;31mAttributeError\u001b[0m                            Traceback (most recent call last)",
      "Cell \u001b[0;32mIn[16], line 1\u001b[0m\n\u001b[0;32m----> 1\u001b[0m \u001b[43mnp\u001b[49m\u001b[38;5;241;43m.\u001b[39;49m\u001b[43mlookfor\u001b[49m(\u001b[38;5;124m\"\u001b[39m\u001b[38;5;124mlog\u001b[39m\u001b[38;5;124m\"\u001b[39m)\n",
      "File \u001b[0;32m/home/linuxbrew/.linuxbrew/Cellar/jupyterlab/4.2.5/libexec/lib/python3.12/site-packages/numpy/__init__.py:400\u001b[0m, in \u001b[0;36m__getattr__\u001b[0;34m(attr)\u001b[0m\n\u001b[1;32m    397\u001b[0m     \u001b[38;5;28;01mraise\u001b[39;00m \u001b[38;5;167;01mAttributeError\u001b[39;00m(__former_attrs__[attr], name\u001b[38;5;241m=\u001b[39m\u001b[38;5;28;01mNone\u001b[39;00m)\n\u001b[1;32m    399\u001b[0m \u001b[38;5;28;01mif\u001b[39;00m attr \u001b[38;5;129;01min\u001b[39;00m __expired_attributes__:\n\u001b[0;32m--> 400\u001b[0m     \u001b[38;5;28;01mraise\u001b[39;00m \u001b[38;5;167;01mAttributeError\u001b[39;00m(\n\u001b[1;32m    401\u001b[0m         \u001b[38;5;124mf\u001b[39m\u001b[38;5;124m\"\u001b[39m\u001b[38;5;124m`np.\u001b[39m\u001b[38;5;132;01m{\u001b[39;00mattr\u001b[38;5;132;01m}\u001b[39;00m\u001b[38;5;124m` was removed in the NumPy 2.0 release. \u001b[39m\u001b[38;5;124m\"\u001b[39m\n\u001b[1;32m    402\u001b[0m         \u001b[38;5;124mf\u001b[39m\u001b[38;5;124m\"\u001b[39m\u001b[38;5;132;01m{\u001b[39;00m__expired_attributes__[attr]\u001b[38;5;132;01m}\u001b[39;00m\u001b[38;5;124m\"\u001b[39m,\n\u001b[1;32m    403\u001b[0m         name\u001b[38;5;241m=\u001b[39m\u001b[38;5;28;01mNone\u001b[39;00m\n\u001b[1;32m    404\u001b[0m     )\n\u001b[1;32m    406\u001b[0m \u001b[38;5;28;01mif\u001b[39;00m attr \u001b[38;5;241m==\u001b[39m \u001b[38;5;124m\"\u001b[39m\u001b[38;5;124mchararray\u001b[39m\u001b[38;5;124m\"\u001b[39m:\n\u001b[1;32m    407\u001b[0m     warnings\u001b[38;5;241m.\u001b[39mwarn(\n\u001b[1;32m    408\u001b[0m         \u001b[38;5;124m\"\u001b[39m\u001b[38;5;124m`np.chararray` is deprecated and will be removed from \u001b[39m\u001b[38;5;124m\"\u001b[39m\n\u001b[1;32m    409\u001b[0m         \u001b[38;5;124m\"\u001b[39m\u001b[38;5;124mthe main namespace in the future. Use an array with a string \u001b[39m\u001b[38;5;124m\"\u001b[39m\n\u001b[1;32m    410\u001b[0m         \u001b[38;5;124m\"\u001b[39m\u001b[38;5;124mor bytes dtype instead.\u001b[39m\u001b[38;5;124m\"\u001b[39m, \u001b[38;5;167;01mDeprecationWarning\u001b[39;00m, stacklevel\u001b[38;5;241m=\u001b[39m\u001b[38;5;241m2\u001b[39m)\n",
      "\u001b[0;31mAttributeError\u001b[0m: `np.lookfor` was removed in the NumPy 2.0 release. Search NumPy's documentation directly."
     ]
    }
   ],
   "source": [
    "np.lookfor(\"log\")     # The function looked for was removed"
   ]
  },
  {
   "cell_type": "markdown",
   "metadata": {},
   "source": [
    "7. (2 pts) Use boolean indexing to create an array of `True/False` using `origin` and the value 'US'."
   ]
  },
  {
   "cell_type": "code",
   "execution_count": 40,
   "metadata": {
    "scrolled": true
   },
   "outputs": [
    {
     "name": "stdout",
     "output_type": "stream",
     "text": [
      "[ True  True  True  True  True  True  True  True  True  True False  True\n",
      "  True  True  True  True  True  True  True  True False  True  True  True\n",
      " False False False False False False  True  True  True  True  True False\n",
      "  True False  True False  True  True  True  True  True  True  True  True\n",
      "  True  True  True  True  True  True  True  True  True False False False\n",
      " False False False  True False  True False  True  True  True  True  True\n",
      "  True  True  True  True  True  True False  True  True  True  True False\n",
      " False False False  True False False  True False  True  True  True  True\n",
      "  True  True  True  True  True  True  True  True  True  True  True  True\n",
      "  True False  True  True  True  True  True False  True False False  True\n",
      "  True False  True  True False False False False  True False False  True\n",
      "  True  True  True  True False  True False  True  True  True  True  True\n",
      "  True  True  True  True False False False False False  True False False\n",
      " False False False  True  True  True  True  True  True  True  True  True\n",
      "  True  True  True  True  True  True False  True  True  True False False\n",
      " False  True False  True False False False False False False False  True\n",
      "  True False  True  True  True  True  True  True  True  True  True  True\n",
      " False False  True  True  True  True False False False  True False  True\n",
      " False False False  True  True  True  True False  True False  True False\n",
      "  True  True  True  True  True  True  True  True  True  True  True  True\n",
      " False  True False  True  True  True False False False False False False\n",
      "  True False False False  True  True  True  True  True  True  True  True\n",
      "  True  True  True  True  True  True  True  True  True  True False False\n",
      "  True False  True  True False False False False False False False  True\n",
      "  True  True  True  True  True  True  True  True  True  True  True  True\n",
      " False False  True  True False  True False  True  True  True False False\n",
      "  True  True  True  True False False  True False  True  True  True  True\n",
      " False False False False False False  True False False False False False\n",
      " False False False False False False False  True False  True  True  True\n",
      "  True  True False  True False False False False False  True  True  True\n",
      " False False False False False False False False False False False  True\n",
      "  True  True  True  True  True  True  True  True  True  True  True False\n",
      " False False  True  True False False False False False False  True  True\n",
      "  True  True False  True  True  True False  True  True  True]\n"
     ]
    }
   ],
   "source": [
    "us_origin = origin == \"US\"\n",
    "print(us_origin)"
   ]
  },
  {
   "cell_type": "markdown",
   "metadata": {},
   "source": [
    "8. (2 pts) Apply your index (from above) to the `car` array. You should now only see cars that are of US origin. "
   ]
  },
  {
   "cell_type": "code",
   "execution_count": 35,
   "metadata": {},
   "outputs": [
    {
     "name": "stdout",
     "output_type": "stream",
     "text": [
      "['Chevrolet Chevelle Malibu' 'Buick Skylark 320' 'Plymouth Satellite'\n",
      " 'AMC Rebel SST' 'Ford Torino' 'Ford Galaxie 500' 'Chevrolet Impala'\n",
      " 'Plymouth Fury iii' 'Pontiac Catalina' 'AMC Ambassador DPL'\n",
      " 'Chevrolet Chevelle Concours (sw)' 'Ford Torino (sw)'\n",
      " 'Plymouth Satellite (sw)' 'AMC Rebel SST (sw)' 'Dodge Challenger SE'\n",
      " \"Plymouth 'Cuda 340\" 'Ford Mustang Boss 302' 'Chevrolet Monte Carlo'\n",
      " 'Buick Estate Wagon (sw)' 'Plymouth Duster' 'AMC Hornet' 'Ford Maverick'\n",
      " 'AMC Gremlin' 'Ford F250' 'Chevy C20' 'Dodge D200' 'Hi 1200D'\n",
      " 'Chevrolet Vega 2300' 'Ford Pinto' 'AMC Gremlin'\n",
      " 'Plymouth Satellite Custom' 'Chevrolet Chevelle Malibu' 'Ford Torino 500'\n",
      " 'AMC Matador' 'Chevrolet Impala' 'Pontiac Catalina Brougham'\n",
      " 'Ford Galaxie 500' 'Plymouth Fury iii' 'Dodge Monaco (sw)'\n",
      " 'Ford Country Squire (sw)' 'Pontiac Safari (sw)'\n",
      " 'AMC Hornet Sportabout (sw)' 'Chevrolet Vega (sw)' 'Pontiac Firebird'\n",
      " 'Ford Mustang' 'Mercury Capri 2000' 'Plymouth Cricket'\n",
      " 'Dodge Colt Hardtop' 'Chevrolet Vega' 'Ford Pinto Runabout'\n",
      " 'Chevrolet Impala' 'Pontiac Catalina' 'Plymouth Fury III'\n",
      " 'Ford Galaxie 500' 'AMC Ambassador SST' 'Mercury Marquis'\n",
      " 'Buick LeSabre Custom' 'Oldsmobile Delta 88 Royale'\n",
      " 'Chrysler Newport Royal' 'AMC Matador (sw)'\n",
      " 'Chevrolet Chevelle Concours (sw)' 'Ford Gran Torino (sw)'\n",
      " 'Plymouth Satellite Custom (sw)' 'Ford Pinto (sw)' 'Dodge Colt (sw)'\n",
      " 'Buick Century 350' 'AMC Matador' 'Chevrolet Malibu' 'Ford Gran Torino'\n",
      " 'Dodge Coronet Custom' 'Mercury Marquis Brougham'\n",
      " 'Chevrolet Caprice Classic' 'Ford LTD' 'Plymouth Fury Gran Sedan'\n",
      " 'Chrysler New Yorker Brougham' 'Buick Electra 225 Custom'\n",
      " 'AMC Ambassador Brougham' 'Plymouth Valiant' 'Chevrolet Nova Custom'\n",
      " 'AMC Hornet' 'Ford Maverick' 'Plymouth Duster' 'Chevrolet Impala'\n",
      " 'Ford Country' 'Plymouth Custom Suburb' 'Oldsmobile Vista Cruiser'\n",
      " 'AMC Gremlin' 'Chevrolet Vega' 'Ford Pinto' 'Mercury Capri v6'\n",
      " 'Chevrolet Monte Carlo S' 'Pontiac Grand Prix' 'Dodge Dart Custom'\n",
      " 'Oldsmobile Omega' 'Plymouth Duster' 'Ford Maverick' 'AMC Hornet'\n",
      " 'Chevrolet Nova' 'Ford Pinto' 'Chevrolet Vega'\n",
      " 'Chevrolet Chevelle Malibu Classic' 'AMC Matador'\n",
      " 'Plymouth Satellite Sebring' 'Ford Gran Torino'\n",
      " 'Buick Century Luxus (sw)' 'Dodge Coronet Custom (sw)'\n",
      " 'Ford Gran Torino (sw)' 'AMC Matador (sw)' 'Dodge Colt'\n",
      " 'Plymouth Valiant Custom' 'Chevrolet Nova' 'Mercury Monarch'\n",
      " 'Ford Maverick' 'Pontiac Catalina' 'Chevrolet Bel Air'\n",
      " 'Plymouth Grand Fury' 'Ford LTD' 'Buick Century'\n",
      " 'Chevrolete Chevelle Malibu' 'AMC Matador' 'Plymouth Fury'\n",
      " 'Buick Skyhawk' 'Chevrolet Monza 2+2' 'Ford Mustang II' 'Ford Pinto'\n",
      " 'AMC Gremlin' 'Pontiac Astro' 'Ford Pinto' 'AMC Pacer' 'Capri ii'\n",
      " 'Dodge Colt' 'Chevrolet Chevelle Malibu Classic' 'Dodge Coronet Brougham'\n",
      " 'AMC Matador' 'Ford Gran Torino' 'Plymouth Valiant' 'Chevrolet Nova'\n",
      " 'Ford Maverick' 'AMC Hornet' 'Chevrolet Chevette' 'Chevrolet Woody'\n",
      " 'Dodge Aspen SE' 'Ford Grenada ghia' 'Pontiac Ventura SJ' 'AMC Pacer d/l'\n",
      " 'Ford Pinto' 'Plymouth Volare Premier v8' 'Cadillac Seville'\n",
      " 'Chevrolet C10' 'Ford F108' 'Dodge D100' 'Buick Opel Isuzu Deluxe'\n",
      " 'Plymouth Arrow GS' 'Chevrolet Caprice Classic'\n",
      " 'Oldsmobile Cutlass Supreme' 'Dodge Monaco Brougham'\n",
      " 'Mercury Cougar Brougham' 'Chevrolet Concours' 'Buick Skylark'\n",
      " 'Plymouth Volare Custom' 'Ford Grenada' 'Pontiac Grand Prix LJ'\n",
      " 'Chevrolet Monte Carlo Landau' 'Chrysler Cordoba' 'Ford Thunderbird'\n",
      " 'Pontiac Sunbird Coupe' 'Ford Mustang II 2+2' 'Chevrolet Chevette'\n",
      " 'Dodge Colt m/m' 'Ford Fiesta' 'Oldsmobile Cutlass Salon Brougham'\n",
      " 'Dodge Diplomat' 'Mercury Monarch ghia' 'Pontiac Phoenix LJ'\n",
      " 'Chevrolet Malibu' 'Ford Fairmont (auto)' 'Ford Fairmont (man)'\n",
      " 'Plymouth Volare' 'AMC Concord' 'Buick Century Special' 'Mercury Zephyr'\n",
      " 'Dodge Aspen' 'AMC Concord d/l' 'Chevrolet Monte Carlo Landau'\n",
      " 'Buick Regal Sport Coupe (turbo)' 'Ford Futura' 'Dodge Magnum XE'\n",
      " 'Chevrolet Chevette' 'Dodge Omni' 'Plymouth Sapporo'\n",
      " 'Oldsmobile Starfire SX' 'Pontiac Lemans V6' 'Mercury Zephyr 6'\n",
      " 'Ford Fairmont 4' 'AMC Concord DL 6' 'Dodge Aspen 6'\n",
      " 'Chevrolet Caprice Classic' 'Ford LTD Landau' 'Mercury Grand Marquis'\n",
      " 'Dodge St. Regis' 'Buick Estate Wagon (sw)' 'Ford Country Squire (sw)'\n",
      " 'Chevrolet Malibu Classic (sw)' 'Chrysler Lebaron Town @ Country (sw)'\n",
      " 'Dodge Colt Hatchback Custom' 'AMC Spirit DL' 'Cadillac Eldorado'\n",
      " 'Oldsmobile Cutlass Salon Brougham' 'Plymouth Horizon'\n",
      " 'Plymouth Horizon TC3' 'Buick Skylark Limited' 'Chevrolet Citation'\n",
      " 'Oldsmobile Omega Brougham' 'Pontiac Phoenix' 'Chevrolet Chevette'\n",
      " 'Chevrolet Citation' 'Ford Fairmont' 'AMC Concord' 'Dodge Aspen'\n",
      " 'Dodge Colt' 'Ford Mustang Cobra' 'Plymouth Reliant' 'Buick Skylark'\n",
      " 'Dodge Aries Wagon (sw)' 'Chevrolet Citation' 'Plymouth Reliant'\n",
      " 'Plymouth Champ' 'Plymouth Horizon 4' 'Ford Escort 4W' 'Ford Escort 2H'\n",
      " 'Buick Century' 'Oldsmobile Cutlass LS' 'Ford Grenada gl'\n",
      " 'Chrysler Lebaron Salon' 'Chevrolet Cavalier' 'Chevrolet Cavalier Wagon'\n",
      " 'Chevrolet Cavalier 2-door' 'Pontiac J2000 SE Hatchback' 'Dodge Aries SE'\n",
      " 'Pontiac Phoenix' 'Ford Fairmont Futura' 'AMC Concord DL'\n",
      " 'Plymouth Horizon Miser' 'Mercury Lynx l' 'Buick Century Limited'\n",
      " 'Oldsmobile Cutlass Ciera (diesel)' 'Chrysler Lebaron Medallion'\n",
      " 'Ford Grenada l' 'Dodge Charger 2.2' 'Chevrolet Camaro' 'Ford Mustang GL'\n",
      " 'Dodge Rampage' 'Ford Ranger' 'Chevy S-10']\n"
     ]
    }
   ],
   "source": [
    "us_mask = origin == \"US\"\n",
    "us_cars = car[us_mask]\n",
    "print(us_cars)"
   ]
  },
  {
   "cell_type": "markdown",
   "metadata": {},
   "source": [
    "### Use numpy or pandas to answer the following questions."
   ]
  },
  {
   "cell_type": "markdown",
   "metadata": {},
   "source": [
    "9. (3 pts) What is the average horsepower for `Europe` cars? (Hint: create a boolean index of 'US' apply it to horsepower and perform the calculation.)"
   ]
  },
  {
   "cell_type": "code",
   "execution_count": 38,
   "metadata": {},
   "outputs": [
    {
     "name": "stdout",
     "output_type": "stream",
     "text": [
      "nan\n"
     ]
    },
    {
     "name": "stderr",
     "output_type": "stream",
     "text": [
      "/home/linuxbrew/.linuxbrew/Cellar/jupyterlab/4.2.5/libexec/lib/python3.12/site-packages/numpy/_core/fromnumeric.py:3904: RuntimeWarning: Mean of empty slice.\n",
      "  return _methods._mean(a, axis=axis, dtype=dtype,\n",
      "/home/linuxbrew/.linuxbrew/Cellar/jupyterlab/4.2.5/libexec/lib/python3.12/site-packages/numpy/_core/_methods.py:147: RuntimeWarning: invalid value encountered in scalar divide\n",
      "  ret = ret.dtype.type(ret / rcount)\n"
     ]
    }
   ],
   "source": [
    "eu_mask = origin == \"EU\"\n",
    "eu_horsepower = horsepower[eu_mask]\n",
    "hp = np.mean(eu_horsepower)\n",
    "print(hp)\n",
    "\n",
    "# TA Payton told me this was the correct answer and to leave it like this or ask the prof."
   ]
  },
  {
   "cell_type": "markdown",
   "metadata": {},
   "source": [
    "10. (3 pts) On average are Japanese cars more fuel-efficient than US cars? Show the code that you used to determine this.  "
   ]
  },
  {
   "cell_type": "code",
   "execution_count": 5,
   "metadata": {},
   "outputs": [
    {
     "name": "stdout",
     "output_type": "stream",
     "text": [
      "30.450632911392404\n",
      "19.688188976377955\n"
     ]
    }
   ],
   "source": [
    "pd.set_option('display.max_rows', 406)\n",
    "us_cars = df['Origin'] == 'Japan'\n",
    "us_table = df[us_cars]\n",
    "avg_us_fuelefficiency = us_table['MPG'].mean()\n",
    "\n",
    "japan_cars = df['Origin'] == 'US'\n",
    "jp_table = df[japan_cars]\n",
    "avg_jp_fuelefficiency = jp_table['MPG'].mean()\n",
    "\n",
    "print(avg_us_fuelefficiency)\n",
    "print(avg_jp_fuelefficiency)\n",
    "\n",
    "\n",
    "# The US car are more fuel efficient"
   ]
  },
  {
   "cell_type": "markdown",
   "metadata": {},
   "source": [
    "11. (3 pts) What is the correlation coefficient of `mpg` and `weight`? What is a correlation coefficient? What does the result indicate about the relationship between mpg and weight? "
   ]
  },
  {
   "cell_type": "code",
   "execution_count": 32,
   "metadata": {},
   "outputs": [
    {
     "data": {
      "text/plain": [
       "array([[ 1.        , -0.78750994],\n",
       "       [-0.78750994,  1.        ]])"
      ]
     },
     "execution_count": 32,
     "metadata": {},
     "output_type": "execute_result"
    }
   ],
   "source": [
    "np.corrcoef(mpg,weight)\n",
    "# The result shows that the correlation coefficient is -0.78.\n",
    "# A correlation coefficient describes how closely related the change between two variables is. Weight and mpg are negatively correlated."
   ]
  },
  {
   "cell_type": "markdown",
   "metadata": {},
   "source": [
    "Extra credit: (3 pts) Create a new pandas dataframe that has the average mpg, weight, and horsepower per country of origin"
   ]
  },
  {
   "cell_type": "code",
   "execution_count": null,
   "metadata": {},
   "outputs": [],
   "source": []
  }
 ],
 "metadata": {
  "kernelspec": {
   "display_name": "Python 3 (ipykernel)",
   "language": "python",
   "name": "python3"
  },
  "language_info": {
   "codemirror_mode": {
    "name": "ipython",
    "version": 3
   },
   "file_extension": ".py",
   "mimetype": "text/x-python",
   "name": "python",
   "nbconvert_exporter": "python",
   "pygments_lexer": "ipython3",
   "version": "3.12.5"
  }
 },
 "nbformat": 4,
 "nbformat_minor": 4
}
