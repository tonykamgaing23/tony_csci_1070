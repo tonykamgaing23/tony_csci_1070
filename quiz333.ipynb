{
 "cells": [
  {
   "cell_type": "code",
   "execution_count": null,
   "id": "562b8d37-2857-4ebb-bb89-3d33db23c37c",
   "metadata": {},
   "outputs": [],
   "source": []
  },
  {
   "cell_type": "code",
   "execution_count": null,
   "id": "7a42570b-8170-4048-8f85-206cc61b7c2b",
   "metadata": {},
   "outputs": [],
   "source": []
  },
  {
   "cell_type": "code",
   "execution_count": null,
   "id": "f3dc8118-e7f0-46a4-8995-666261fda29f",
   "metadata": {},
   "outputs": [],
   "source": [
    "belize_listings_path = \"belize_airbnb_listings.csv\"\n",
    "sorted(belize = belize_df.groupby(\"neighbourhood_group\")"
   ]
  },
  {
   "cell_type": "code",
   "execution_count": 32,
   "id": "9aa95071-9b2b-4c81-bb6c-2627a5a5eb32",
   "metadata": {},
   "outputs": [
    {
     "data": {
      "text/html": [
       "<div>\n",
       "<style scoped>\n",
       "    .dataframe tbody tr th:only-of-type {\n",
       "        vertical-align: middle;\n",
       "    }\n",
       "\n",
       "    .dataframe tbody tr th {\n",
       "        vertical-align: top;\n",
       "    }\n",
       "\n",
       "    .dataframe thead th {\n",
       "        text-align: right;\n",
       "    }\n",
       "</style>\n",
       "<table border=\"1\" class=\"dataframe\">\n",
       "  <thead>\n",
       "    <tr style=\"text-align: right;\">\n",
       "      <th></th>\n",
       "      <th>price</th>\n",
       "      <th>number_of_reviews</th>\n",
       "      <th>availability_365</th>\n",
       "    </tr>\n",
       "    <tr>\n",
       "      <th>neighbourhood_group</th>\n",
       "      <th></th>\n",
       "      <th></th>\n",
       "      <th></th>\n",
       "    </tr>\n",
       "  </thead>\n",
       "  <tbody>\n",
       "    <tr>\n",
       "      <th>Belize</th>\n",
       "      <td>380.302414</td>\n",
       "      <td>27100</td>\n",
       "      <td>365</td>\n",
       "    </tr>\n",
       "    <tr>\n",
       "      <th>Cayo</th>\n",
       "      <td>205.847525</td>\n",
       "      <td>7356</td>\n",
       "      <td>365</td>\n",
       "    </tr>\n",
       "    <tr>\n",
       "      <th>Corozal</th>\n",
       "      <td>156.553846</td>\n",
       "      <td>492</td>\n",
       "      <td>365</td>\n",
       "    </tr>\n",
       "    <tr>\n",
       "      <th>Orange Walk</th>\n",
       "      <td>122.035714</td>\n",
       "      <td>415</td>\n",
       "      <td>365</td>\n",
       "    </tr>\n",
       "    <tr>\n",
       "      <th>Stann Creek</th>\n",
       "      <td>471.119584</td>\n",
       "      <td>4855</td>\n",
       "      <td>365</td>\n",
       "    </tr>\n",
       "    <tr>\n",
       "      <th>Toledo</th>\n",
       "      <td>222.978723</td>\n",
       "      <td>194</td>\n",
       "      <td>365</td>\n",
       "    </tr>\n",
       "  </tbody>\n",
       "</table>\n",
       "</div>"
      ],
      "text/plain": [
       "                          price  number_of_reviews  availability_365\n",
       "neighbourhood_group                                                 \n",
       "Belize               380.302414              27100               365\n",
       "Cayo                 205.847525               7356               365\n",
       "Corozal              156.553846                492               365\n",
       "Orange Walk          122.035714                415               365\n",
       "Stann Creek          471.119584               4855               365\n",
       "Toledo               222.978723                194               365"
      ]
     },
     "execution_count": 32,
     "metadata": {},
     "output_type": "execute_result"
    }
   ],
   "source": [
    "import pandas as pd\n",
    "import numpy as np\n",
    "\n",
    "import math\n",
    "from scipy import stats\n",
    "\n",
    "belize_df = pd.read_csv('belize_airbnb_listings.csv')\n",
    "sorted_belize = belize_df.groupby(\"neighbourhood_group\")\n",
    "h=sorted_belize[[\"price\"]].mean()\n",
    "g=sorted_belize[[\"number_of_reviews\"]].sum()\n",
    "c=sorted_belize[[\"availability_365\"]].max()\n",
    "merged_belize = pd.merge(h, g, on=\"neighbourhood_group\")\n",
    "merged_belize = pd.merge(merged_belize,c, on=\"neighbourhood_group\")\n",
    "merged_belize"
   ]
  },
  {
   "cell_type": "code",
   "execution_count": null,
   "id": "f1e0750b-7026-41e7-836e-c9696afd90e7",
   "metadata": {},
   "outputs": [],
   "source": []
  }
 ],
 "metadata": {
  "kernelspec": {
   "display_name": "Python 3 (ipykernel)",
   "language": "python",
   "name": "python3"
  },
  "language_info": {
   "codemirror_mode": {
    "name": "ipython",
    "version": 3
   },
   "file_extension": ".py",
   "mimetype": "text/x-python",
   "name": "python",
   "nbconvert_exporter": "python",
   "pygments_lexer": "ipython3",
   "version": "3.12.5"
  }
 },
 "nbformat": 4,
 "nbformat_minor": 5
}
